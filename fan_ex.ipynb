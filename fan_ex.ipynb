{
 "cells": [
  {
   "cell_type": "code",
   "execution_count": 61,
   "metadata": {},
   "outputs": [
    {
     "name": "stdout",
     "output_type": "stream",
     "text": [
      "sparsity of W: 0.6836442\n",
      "signal-to-noise ratio: 0.7283950587566218\n",
      "neg return num: 81\n"
     ]
    }
   ],
   "source": [
    "#DGP\n",
    "import numpy as np\n",
    "import pandas as pd\n",
    "import random\n",
    "\n",
    "# n = 200  #firm num\n",
    "# T = 100  #time num\n",
    "#To simplify the simulation, we change the x_{i,(t-1)} ,r_{i,t} to x_n, r_n, \n",
    "# which means denote all the variable with  n th news rather than i th firm in t th day\n",
    "np.random.seed(66)\n",
    "S = 10000  #word num\n",
    "n = 500   #news num\n",
    "p = 3  #dim of latent space\n",
    "\n",
    "#x ~ Normal\n",
    "mu_x = 0.03\n",
    "sigma_x = 0.05\n",
    "x = np.random.normal(mu_x,sigma_x,(n,p))  #latent variable n x p\n",
    "\n",
    "# beta controls signal-noise ratio 0.5, 10, 100 ###normal?\n",
    "beta = np.random.normal(1,0,p) \n",
    "#noise~ Normal\n",
    "sigma_epsilon = 0.05\n",
    "epsilon = np.random.normal(0,sigma_epsilon,n)\n",
    "\n",
    "# return\n",
    "r = x @ beta + epsilon \n",
    "ratio_r = np.var(x @ beta)/(np.var(x @ beta)+np.var(epsilon))\n",
    "\n",
    "#Gamma controls sentiment signals S x p\n",
    "K = 10 #num of neg/pos sentiment words nums\n",
    "s1 = 5 #lower bound of the sentiment strength  (non-neg)\n",
    "s2 = 15 #upper bound of the sentiment strength \n",
    "gamma = np.zeros((S,p))  \n",
    "gamma[:K] = np.random.uniform(s1,s2,(K,p)) \n",
    "gamma[-K:] = np.random.uniform(-s2,-s1,(K,p))\n",
    "\n",
    "#theta control the sparsity of word matrix W\n",
    "mu_b = 0.5\n",
    "mu_theta = -10\n",
    "sigma_theta = 0.05\n",
    "theta = np.random.binomial(1, mu_b,(n,S)) * np.random.normal(mu_theta, sigma_theta,(n,S))\n",
    "\n",
    "#paramenter of Poisson distribution\n",
    "lam = np.exp( x @ gamma.T + theta)\n",
    "\n",
    "# words count matrix\n",
    "W = np.random.poisson(lam,(n,S))\n",
    "\n",
    "\n",
    "# words count of each article\n",
    "total_words_example = np.mean(np.sum(W,axis=1))\n",
    "\n",
    "## calculate sparcity \n",
    "sparcity = 1 - np.count_nonzero(W)/W.size\n",
    "\n",
    "print(\"sparsity of W:\", sparcity)\n",
    "print(\"signal-to-noise ratio:\", ratio_r)\n",
    "print(\"neg return num:\",np.sum(r<0) )\n",
    "\n"
   ]
  },
  {
   "cell_type": "code",
   "execution_count": 1,
   "metadata": {},
   "outputs": [],
   "source": [
    "'''\n",
    "Author: Naixin && naixinguo2-c@my.cityu.edu.hk\n",
    "Date: 2022-11-01 14:50:18\n",
    "LastEditors: Naixin && naixinguo2-c@my.cityu.edu.hk\n",
    "LastEditTime: 2022-11-01 14:52:17\n",
    "FilePath: /Gtext/xiu/fixword_ex.ipynb\n",
    "Description: \n",
    "\n",
    "'''\n",
    "\n",
    "from nltk.stem import PorterStemmer\n",
    "from nltk.tokenize import sent_tokenize, word_tokenize\n",
    "import pandas as pd\n",
    "import os\n",
    "from tqdm import tqdm\n",
    "import numpy as np\n",
    "from sklearn.decomposition import TruncatedSVD\n",
    "from scipy import sparse\n",
    "\n",
    "\n",
    "##################### Could be changed part ##########################\n",
    "sparse_folder = 'results_primary_news_sparse_multiyears/'\n",
    "index_folder = 'results_primary_news_index_multiyears/'\n",
    "\n",
    "sparse_file = '2005_2020_sparse/2005_2014_sparse_threecol.csv'\n",
    "index_file = '2005_2020_index_news/2005_2014_index_news.csv'\n",
    "word_file = '2005_2014_stemmed_word_count.csv'\n",
    "\n",
    "# sparse_file0 = '2005_2020_sparse/2015_2019_sparse_threecol.csv'\n",
    "# index_file0 = '2005_2020_index_news/2015_2019_index_news.csv'\n",
    "\n",
    "\n",
    "# sparse_file1 = '2005_2020_sparse/2020_2020_sparse_threecol.csv'\n",
    "# index_file1 = '2005_2020_index_news/2020_2020_index_news.csv'\n",
    "\n",
    "######################################################################\n",
    "\n",
    "######################## Could be put in the function module py file ########################\n",
    "# Define a function to transform data from three columns to sparse matrix\n",
    "def trans_data(sparse_data, news_data, word_data):\n",
    "    '''\n",
    "    :param sparse_data: the three column saved words DataFrame includes 'Row', 'Column', 'Value'\n",
    "    :param news_data: news DataFrame includes 'Row_ID', 'permno', 'returnday_1', 'threedayreturn', 'title'\n",
    "    :param word_data: words DataFrame includes 'WordIndex', 'final_word', 'TotalWordNum', 'TotalBodyNum'\n",
    "\n",
    "    :return W_array: sparse matrix of word counts, n*k --> n: # of news, k: # of words\n",
    "    :return r_array: return vector, length == # of news\n",
    "    :return stkcd_array: permno vector, length == # of news\n",
    "    :return date_array: date vector, length == # of news\n",
    "    '''\n",
    "    if 'return' in news_data.columns :\n",
    "        r_array = np.array(news_data['return'])\n",
    "        date_array = np.array(news_data['returnday'])\n",
    "    else:  \n",
    "        r_array = np.array(news_data['threedayreturn'])\n",
    "        date_array = np.array(news_data['returnday_1'])\n",
    "    stkcd_array = np.array(news_data['permno'])\n",
    "    \n",
    "    \n",
    "    # Transform three columns to sparse matrix W\n",
    "    newrowarray = np.array(sparse_data['Row'])\n",
    "    newcolarray = np.array(sparse_data['Column'])\n",
    "    newvaluearray = np.array(sparse_data['Value'])\n",
    "\n",
    "    W_array = sparse.csr_matrix((newvaluearray, (newrowarray, newcolarray)), shape = (newrowarray[-1]+1, word_data.shape[0])).toarray()\n",
    "\n",
    "    return W_array, r_array, stkcd_array, date_array\n",
    "\n",
    "#############################################################################################\n",
    "\n",
    "# Load in data set\n",
    "df_sparse = pd.read_csv('/home/yuanzhi/Text_individual/codes/' + sparse_folder + sparse_file)\n",
    "df_newsindex = pd.read_csv('/home/yuanzhi/Text_individual/codes/' + index_folder + index_file)\n",
    "df_words = pd.read_csv('/home/yuanzhi/Text_individual/codes/' + word_file)\n",
    "df_words = df_words.dropna().reset_index(drop = True).reset_index()\n",
    "\n",
    "# df_sparse0= pd.read_csv('/home/yuanzhi/Text_individual/codes/' + sparse_folder + sparse_file0)\n",
    "# df_newsindex0 = pd.read_csv('/home/yuanzhi/Text_individual/codes/' + index_folder + index_file0)\n",
    "\n",
    "\n",
    "# df_sparse1= pd.read_csv('/home/yuanzhi/Text_individual/codes/' + sparse_folder + sparse_file1)\n",
    "# df_newsindex1 = pd.read_csv('/home/yuanzhi/Text_individual/codes/' + index_folder + index_file1)\n",
    "\n",
    "W_train, r_train, stkcd, datearray = trans_data(df_sparse, df_newsindex, df_words)\n",
    "# W_vali, r_vali, stkcd0, datearray0 = trans_data(df_sparse0, df_newsindex0, df_words)\n",
    "# W_test, r_test, stkcd1, datearray1 = trans_data(df_sparse1, df_newsindex1, df_words)\n",
    "\n"
   ]
  },
  {
   "cell_type": "code",
   "execution_count": null,
   "metadata": {},
   "outputs": [],
   "source": [
    "list(coeff_num)"
   ]
  },
  {
   "cell_type": "code",
   "execution_count": 89,
   "metadata": {},
   "outputs": [
    {
     "data": {
      "text/plain": [
       "187"
      ]
     },
     "execution_count": 89,
     "metadata": {},
     "output_type": "execute_result"
    }
   ],
   "source": [
    "list(coeff_num).index(take_closest(list(coeff_num),100))"
   ]
  },
  {
   "cell_type": "code",
   "execution_count": 100,
   "metadata": {},
   "outputs": [
    {
     "data": {
      "text/plain": [
       "array([0.0001    , 0.00016681, 0.00027826, 0.00046416, 0.00077426,\n",
       "       0.00129155, 0.00215443, 0.00359381, 0.00599484, 0.01      ])"
      ]
     },
     "execution_count": 100,
     "metadata": {},
     "output_type": "execute_result"
    }
   ],
   "source": [
    "10 ** np.linspace(-4,-2,num=10)"
   ]
  },
  {
   "cell_type": "code",
   "execution_count": 60,
   "metadata": {},
   "outputs": [
    {
     "ename": "ValueError",
     "evalue": "0.0 is not in list",
     "output_type": "error",
     "traceback": [
      "\u001b[0;31m---------------------------------------------------------------------------\u001b[0m",
      "\u001b[0;31mValueError\u001b[0m                                Traceback (most recent call last)",
      "Cell \u001b[0;32mIn [60], line 1\u001b[0m\n\u001b[0;32m----> 1\u001b[0m \u001b[39mlist\u001b[39;49m(lambdas)\u001b[39m.\u001b[39;49mindex(take_closest(\u001b[39mlist\u001b[39;49m(coeff_num),\u001b[39m100\u001b[39;49m))\n",
      "\u001b[0;31mValueError\u001b[0m: 0.0 is not in list"
     ]
    }
   ],
   "source": [
    "list(lambdas).index(take_closest(list(coeff_num),100))"
   ]
  },
  {
   "cell_type": "code",
   "execution_count": null,
   "metadata": {},
   "outputs": [],
   "source": [
    "import numpy as np\n",
    "from time import process_time\n",
    "\n",
    "start = process_time()\n",
    "\n",
    "elapsed = (process_time() - start)\n",
    "\n",
    "print(\"eigh elapsed time: \", elapsed)\n",
    "\n"
   ]
  },
  {
   "cell_type": "code",
   "execution_count": 103,
   "metadata": {},
   "outputs": [],
   "source": [
    "'''\n",
    "\n",
    "'''\n",
    "import heapq\n",
    "import os\n",
    "\n",
    "import numpy as np\n",
    "import pandas as pd\n",
    "from scipy import sparse\n",
    "from sklearn import linear_model\n",
    "from sklearn.decomposition import PCA, TruncatedSVD\n",
    "from sklearn.linear_model import Lasso  # ##导入Lasso回归算法\n",
    "\n",
    "\n",
    "import matplotlib\n",
    "import matplotlib.pyplot as plt\n",
    "\n",
    "from bisect import bisect_left\n",
    "\n",
    "#someusful funcs\n",
    "def take_closest(myList, myNumber):\n",
    "    \"\"\"\n",
    "    Assumes myList is sorted. Returns closest value to myNumber.\n",
    "\n",
    "    If two numbers are equally close, return the smallest number.\n",
    "    \"\"\"\n",
    "    pos = bisect_left(myList, myNumber)\n",
    "    if pos == 0:\n",
    "        return myList[0]\n",
    "    if pos == len(myList):\n",
    "        return myList[-1]\n",
    "    before = myList[pos - 1]\n",
    "    after = myList[pos]\n",
    "    return after if after - myNumber < myNumber - before else before\n",
    "\n",
    "################## Could be changed part #######################\n",
    "\n",
    "\n",
    "####################\n",
    "class Farmpredict:\n",
    "    '''\n",
    "    Input:\n",
    "        n: Number of news, int\n",
    "        S: Number of words, we choose 10,000 here, int\n",
    "        p: How many PCA Factors want to choose, according Fan(2021), int\n",
    "        r: stock return vector, n*1, array\n",
    "        W_train: sparse matrix of total dataset, dimension in n * K, array\n",
    "    \n",
    "    Return:\n",
    "        S_set: correlation screening results, list in length of 1000\n",
    "        lasso_index: Non-zero index of optimal lasso model of S_set, list\n",
    "        lasso_Beta: optimal lasso model's coefficients, array\n",
    "        lasso_beta: Non-zero coefficients of optimal lasso model\n",
    "        loading: In-Sample B_hat\n",
    "        insregLRcoef: In-Sample linear regression coefficients between r and pcafactor\n",
    "        lasso_alpha: optimal lasso model's intercept\n",
    "        insregLRint: In-Sample linear regression intercept between r and pcafactor\n",
    "    '''\n",
    "    def __init__(self):\n",
    "        self.p = 10\n",
    "        self.W_train = W_train\n",
    "        self.r_train = r_train\n",
    "        self.freqnum = 10000\n",
    "        self.screen_num = 1000 # screening number\n",
    "        \n",
    "        self.pcafactor = 0\n",
    "        self.pcau = 0\n",
    "        self.loading = 0\n",
    "        \n",
    "        self.variable_num = 100 # final words want to choose\n",
    "        self.jobs = 30\n",
    "\n",
    "    # First screen\n",
    "    def pca(self):\n",
    "        Wsum = sum(self.W_train)\n",
    "        freq_index = [heapq.nlargest(self.freqnum, enumerate(Wsum), key=lambda x: x[1])[i][0] for i in range(self.freqnum)]\n",
    "\n",
    "        W_train = self.W_train[:,freq_index]\n",
    "        print('W_train first screen done:',W_train.shape)\n",
    "        # PCA for words count matrix \n",
    "        svdtest = TruncatedSVD(n_components=self.p, n_iter=7, random_state=64)\n",
    "        self.pcafactor = svdtest.fit_transform(W_train) \n",
    "        self.loading = svdtest.components_.T \n",
    "        self.pcau = np.array(W_train - (self.pcafactor @ self.loading.T))\n",
    "        \n",
    "        # print('singular_values', svdtest.singular_values_)\n",
    "        \n",
    "        figure=plt.figure(figsize=(5,3))\n",
    "        sing_vals=np.arange(len(svdtest.singular_values_)) + 1\n",
    "        plt.plot(sing_vals,svdtest.singular_values_/100, 'x-', markersize=3,linewidth=1)\n",
    "        plt.title('Scree Plot')\n",
    "        plt.xlabel('Principal Component')\n",
    "        plt.ylabel('Adjusted Eigenvalue') \n",
    "        plt.show() \n",
    "\n",
    "    # output In-Sample B_hat\n",
    "        print('pca done')    \n",
    "        return self.pcafactor, self.pcau,self.loading\n",
    "         \n",
    "    # linear regression of return on estimated factor\n",
    "    # r ~ a_1 + regcoef*pcafactor + r_u\n",
    "    def fit(self):\n",
    "    # initial parameters\n",
    "        \n",
    "        regLR = linear_model.LinearRegression(n_jobs= self.jobs)\n",
    "\n",
    "    # fit model \n",
    "        regLR.fit(self.pcafactor,self.r_train)\n",
    "        insregLRint = regLR.intercept_  # output In-Sample linear regression intercept\n",
    "        insregLRcoef = regLR.coef_   # output In-Sample linear regression coefficients\n",
    "        yu = self.r_train - insregLRint- self.pcafactor @ insregLRcoef\n",
    "        \n",
    "        #Second screen\n",
    "        # calculate correlation (r_u, pcau)\n",
    "    \n",
    "        corrvector = [abs(np.corrcoef(yu,self.pcau[:,i]))[0,1] for i in range(self.freqnum)]\n",
    "        S_set = [heapq.nlargest(self.screen_num, enumerate(corrvector), key=lambda x: x[1])[i][0] for i in range(self.screen_num)]\n",
    "    # lasso fitting\n",
    "    # screening set\n",
    "        pcaus = self.pcau[:,S_set]\n",
    "\n",
    "\n",
    "        # linear regression of idiosyncratic components on estimated factor\n",
    "        # pcaus ~ a_2 + regcoef*pcafactor + x_tilde\n",
    "\n",
    "        # initial parameters\n",
    "        regLR_u = linear_model.LinearRegression(n_jobs= self.jobs)\n",
    "        \n",
    "        # fit model \n",
    "        xtilde = np.zeros((n,self.screen_num))\n",
    "        for i in range(self.screen_num):\n",
    "            regLR_u.fit(self.pcafactor,pcaus[:,i])\n",
    "            xtilde[:,i] = pcaus[:,i] - regLR_u.intercept_ - self.pcafactor @ regLR_u.coef_ \n",
    "        \n",
    "        l_num = 200\n",
    "        lambdas = 10 ** np.linspace(-2,-4,num=l_num)\n",
    "        \n",
    "    # prepare data for enumerate\n",
    "        coeff_num = np.zeros(l_num)\n",
    "        coeff_beta = np.zeros((l_num, self.screen_num))\n",
    "        # enumerate through lambdas with index and i\n",
    "        for key, value in enumerate(lambdas):    \n",
    "            reg = Lasso(alpha = value)\n",
    "            reg.fit(xtilde, yu)\n",
    "        \n",
    "            coeff_beta[key,:] = reg.coef_\n",
    "            coeff_num[key] = len(np.nonzero(reg.coef_)[0])\n",
    "        print(list(coeff_num).index(take_closest(list(coeff_num),self.variable_num)))\n",
    "        # returns the lambda value where number of variables has number of 20 or near 20.\n",
    "    \n",
    "        best_lambda = lambdas[list(coeff_num).index(take_closest(list(coeff_num),self.variable_num))]\n",
    "        print(\"best_lambda\", best_lambda)\n",
    "        # build up optimal model \n",
    "        # r_u ~ alpha + x_tilde*beta\n",
    "        lasso_best = Lasso(alpha=best_lambda)\n",
    "        \n",
    "        lasso_best.fit(xtilde,yu)\n",
    "            \n",
    "        # get optimal model's coefficients \n",
    "        lasso_Beta = lasso_best.coef_ #1000\n",
    "\n",
    "        lasso_index0 =  list(np.nonzero(lasso_Beta)[0]) \n",
    "        print(lasso_index0)\n",
    "        lasso_index = [S_set[i] for i in lasso_index0]\n",
    "\n",
    "        \n",
    "        lasso_beta = lasso_Beta[lasso_index0]\n",
    "\n",
    "    # print(lasso_index)\n",
    "    \n",
    "        return S_set,lasso_index,lasso_Beta,lasso_beta,self.loading,insregLRcoef, lasso_best.intercept_,insregLRint    "
   ]
  },
  {
   "cell_type": "code",
   "execution_count": 142,
   "metadata": {},
   "outputs": [
    {
     "data": {
      "text/plain": [
       "array([  0,   1,   5,   6,  10,  21,  26,  31,  32,  42,  51,  55,  59,\n",
       "        61,  62,  68,  73,  76,  80, 119, 135, 141, 142, 144, 150, 151,\n",
       "       154, 164, 171, 173, 179, 204, 209, 227, 252, 262, 289, 336, 340,\n",
       "       357, 370, 429, 481, 520, 528, 543, 588, 589, 655, 731, 751, 793,\n",
       "       880, 902, 928, 944, 967])"
      ]
     },
     "execution_count": 142,
     "metadata": {},
     "output_type": "execute_result"
    }
   ],
   "source": [
    "np.where(lasso_Beta>0)[0]"
   ]
  },
  {
   "cell_type": "code",
   "execution_count": 143,
   "metadata": {},
   "outputs": [],
   "source": [
    "pos_index=[S_set[i] for i in np.where(lasso_Beta>0)[0]]\n",
    "neg_index=[S_set[i] for i in np.where(lasso_Beta<0)[0]]"
   ]
  },
  {
   "cell_type": "code",
   "execution_count": 146,
   "metadata": {},
   "outputs": [
    {
     "data": {
      "text/plain": [
       "[476,\n",
       " 405,\n",
       " 834,\n",
       " 25,\n",
       " 471,\n",
       " 101,\n",
       " 238,\n",
       " 239,\n",
       " 440,\n",
       " 169,\n",
       " 12,\n",
       " 1311,\n",
       " 598,\n",
       " 737,\n",
       " 21,\n",
       " 1186,\n",
       " 86,\n",
       " 337,\n",
       " 120,\n",
       " 127,\n",
       " 29,\n",
       " 590,\n",
       " 323,\n",
       " 555,\n",
       " 532,\n",
       " 822,\n",
       " 42,\n",
       " 27,\n",
       " 892,\n",
       " 148,\n",
       " 131,\n",
       " 126,\n",
       " 55,\n",
       " 119,\n",
       " 51,\n",
       " 41,\n",
       " 94,\n",
       " 87,\n",
       " 1062,\n",
       " 531,\n",
       " 95,\n",
       " 231,\n",
       " 680,\n",
       " 277,\n",
       " 333]"
      ]
     },
     "execution_count": 146,
     "metadata": {},
     "output_type": "execute_result"
    }
   ],
   "source": [
    "neg_index"
   ]
  },
  {
   "cell_type": "code",
   "execution_count": 104,
   "metadata": {},
   "outputs": [
    {
     "name": "stdout",
     "output_type": "stream",
     "text": [
      "182336\n",
      "W_train first screen done: (182336, 10000)\n"
     ]
    },
    {
     "data": {
      "image/png": "[encoded data removed]",
      "text/plain": [
       "<Figure size 500x300 with 1 Axes>"
      ]
     },
     "metadata": {},
     "output_type": "display_data"
    },
    {
     "name": "stdout",
     "output_type": "stream",
     "text": [
      "pca done\n"
     ]
    },
    {
     "data": {
      "text/plain": [
       "(array([[ 1.14091766e+00,  1.29820470e-01, -1.22871263e-01, ...,\n",
       "         -1.66224060e-01, -3.95276590e-02, -2.81074569e-02],\n",
       "        [ 1.28030401e+01, -9.25174154e+00, -8.23353448e-01, ...,\n",
       "         -7.30923376e-01, -1.23587291e+00, -7.02311951e+00],\n",
       "        [ 5.57794745e-01,  9.80033583e-02, -6.63101182e-02, ...,\n",
       "         -3.17256828e-01, -1.68516044e-01,  2.65767144e-01],\n",
       "        ...,\n",
       "        [ 1.31167912e+00, -9.53709980e-01,  3.11595765e-01, ...,\n",
       "          5.82931180e-01, -3.74225030e-01, -1.70905744e-01],\n",
       "        [ 1.47198879e+00, -8.70504517e-01,  5.48894024e-02, ...,\n",
       "          1.44234661e+00, -1.12059350e+00,  9.48419490e-01],\n",
       "        [ 3.44153695e+00, -1.73661754e-01, -1.16287859e-02, ...,\n",
       "          1.31956435e+00, -7.74772944e-01,  1.08506217e+00]]),\n",
       " array([[ 1.16819230e-01,  5.86387756e-01, -1.31278899e-01, ...,\n",
       "         -1.50910850e-05, -4.21649998e-05,  1.01169281e-05],\n",
       "        [ 1.45644237e+00,  5.41749143e+00,  4.12225890e+00, ...,\n",
       "         -1.58486075e-06,  1.66197015e-04, -1.06288759e-04],\n",
       "        [ 1.85024796e-02, -1.28364198e-01, -1.95868328e-02, ...,\n",
       "         -1.64338242e-06, -1.26030752e-05,  1.36215747e-06],\n",
       "        ...,\n",
       "        [-3.81930131e-01,  1.37406268e+00,  6.88040818e-01, ...,\n",
       "         -2.00093194e-05, -3.16640118e-05, -1.40921141e-05],\n",
       "        [ 2.35027683e-01,  1.11603604e+00,  8.15930813e-01, ...,\n",
       "         -5.07268876e-05, -9.58666916e-05, -2.63228766e-05],\n",
       "        [-2.14876111e-01,  1.06062336e+00, -3.59577357e-01, ...,\n",
       "         -3.81306859e-05, -6.67065107e-05, -3.16621061e-05]]),\n",
       " array([[ 2.11465604e-01, -2.64406095e-01, -1.13262324e-01, ...,\n",
       "         -1.85376493e-01, -3.38954560e-01, -3.72549366e-01],\n",
       "        [ 1.85407031e-01, -4.33514190e-02,  1.26407431e-01, ...,\n",
       "          1.22520613e-01, -1.37053025e-01, -1.17232552e-01],\n",
       "        [ 1.35589376e-01, -1.55048586e-01, -3.68963168e-02, ...,\n",
       "          4.47169430e-02,  1.99820429e-01, -4.07361597e-02],\n",
       "        ...,\n",
       "        [ 1.76932673e-06, -1.67760741e-06, -9.55740453e-07, ...,\n",
       "          1.53983638e-05,  3.41685614e-07,  2.39586696e-06],\n",
       "        [ 4.16475816e-06, -4.27341121e-06, -2.56702792e-06, ...,\n",
       "          2.62939194e-05,  6.93206876e-06,  1.87188455e-05],\n",
       "        [ 4.01704945e-06, -9.22239599e-06, -2.23693424e-06, ...,\n",
       "          1.61042487e-05,  2.65841084e-05,  2.10220239e-05]]))"
      ]
     },
     "execution_count": 104,
     "metadata": {},
     "output_type": "execute_result"
    }
   ],
   "source": [
    "# r_train=r\n",
    "# W_train=W\n",
    "arraynumber = len(r_train)\n",
    "n,S = W_train.shape\n",
    "print(arraynumber)\n",
    "Farmpredict = Farmpredict()\n",
    "Farmpredict.pca()\n"
   ]
  },
  {
   "cell_type": "code",
   "execution_count": 105,
   "metadata": {},
   "outputs": [
    {
     "name": "stdout",
     "output_type": "stream",
     "text": [
      "127\n",
      "best_lambda 0.0005291978735958442\n",
      "[0, 1, 5, 6, 7, 8, 10, 12, 14, 15, 21, 25, 26, 27, 28, 31, 32, 33, 42, 46, 48, 49, 50, 51, 52, 55, 59, 61, 62, 68, 73, 76, 80, 96, 106, 119, 135, 141, 142, 144, 150, 151, 154, 158, 160, 164, 166, 168, 171, 173, 179, 199, 204, 208, 209, 214, 225, 227, 240, 252, 262, 271, 289, 296, 299, 320, 336, 340, 357, 370, 387, 429, 446, 450, 461, 475, 476, 478, 481, 507, 520, 525, 528, 543, 569, 572, 588, 589, 655, 731, 751, 761, 769, 780, 793, 880, 895, 902, 928, 930, 944, 967]\n"
     ]
    }
   ],
   "source": [
    "\n",
    "S_set,lasso_index,lasso_Beta,lasso_beta,loading,insregLRcoef,lasso_alpha,insregLRint = Farmpredict.fit()"
   ]
  },
  {
   "cell_type": "code",
   "execution_count": 115,
   "metadata": {},
   "outputs": [
    {
     "data": {
      "text/plain": [
       "1612"
      ]
     },
     "execution_count": 115,
     "metadata": {},
     "output_type": "execute_result"
    }
   ],
   "source": [
    "max(lasso_index)\n"
   ]
  },
  {
   "cell_type": "code",
   "execution_count": null,
   "metadata": {},
   "outputs": [],
   "source": [
    "def calc_perform(n, B, W, lassoBeta, lassoIndex, r, insregLRint, insregLRcoef, lasso_alpha):\n",
    "    '''\n",
    "    Input:\n",
    "        n: Number of News, same as input n of Farmpredict\n",
    "        B: loading, same as output loading of Farmpredict\n",
    "        W: sparse matrix, same as input W of Farmpredict\n",
    "        lassoBeta: optimal lasso model's coefficients, same as output lasso_beta of Farmpredict\n",
    "        r: stock return, same as input r of Farmpredict\n",
    "        insregLRint: same as output insregLRint of Farmpredict\n",
    "        insregLRcoef: same as output insregLRcoef of Farmpredict\n",
    "        lasso_alpha: same as output lasso_alpha of Farmpredict\n",
    "    Return:\n",
    "        Rsquare: R2 calculate by function calc_R2\n",
    "        Rmse: RMSE calculate by function calc_RMSE\n",
    "        r_new_hat: predicted stock returns\n",
    "    '''\n",
    "    pcafactor_new = ((np.linalg.inv(B.T @ B)) @ (B.T) @ (W.T)).T\n",
    "    pcau_new = W - (B @ (pcafactor_new.T)).T\n",
    "    \n",
    "    pcaus_new = pcau_new[:,lassoIndex]\n",
    "\n",
    "    regLR_u_new = linear_model.LinearRegression(n_jobs=jobs)\n",
    "    \n",
    "    xtilde_new = np.zeros((n, len(lassoIndex)))\n",
    "    for i in range(len(lassoIndex)):\n",
    "        regLR_u_new.fit(pcafactor_new, pcaus_new[:,i])\n",
    "        xtilde_new[:,i] = pcaus_new[:,i] - regLR_u_new.intercept_ - pcafactor_new @ regLR_u_new.coef_\n",
    "        \n",
    "    yu_new = xtilde_new @ lassoBeta + lasso_alpha\n",
    "    \n",
    "    r_new_hat = insregLRint + yu_new + pcafactor_new @ insregLRcoef\n",
    "        \n",
    "    Rsquare = calc_R2(r, r_new_hat)\n",
    "    Rmse = calc_RMSE(r, r_new_hat, n)\n",
    "    \n",
    "    return Rsquare,Rmse,r_new_hat"
   ]
  }
 ],
 "metadata": {
  "kernelspec": {
   "display_name": "Python 3.9.6 64-bit",
   "language": "python",
   "name": "python3"
  },
  "language_info": {
   "codemirror_mode": {
    "name": "ipython",
    "version": 3
   },
   "file_extension": ".py",
   "mimetype": "text/x-python",
   "name": "python",
   "nbconvert_exporter": "python",
   "pygments_lexer": "ipython3",
   "version": "3.10.6"
  },
  "orig_nbformat": 4,
  "vscode": {
   "interpreter": {
    "hash": "31f2aee4e71d21fbe5cf8b01ff0e069b9275f58929596ceb00d14d90e3e16cd6"
   }
  }
 },
 "nbformat": 4,
 "nbformat_minor": 2
}
